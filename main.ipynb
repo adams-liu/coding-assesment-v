{
 "metadata": {
  "language_info": {
   "codemirror_mode": {
    "name": "ipython",
    "version": 3
   },
   "file_extension": ".py",
   "mimetype": "text/x-python",
   "name": "python",
   "nbconvert_exporter": "python",
   "pygments_lexer": "ipython3",
   "version": "3.8.5-final"
  },
  "orig_nbformat": 2,
  "kernelspec": {
   "name": "python3",
   "display_name": "Python 3.8.5 64-bit ('myenv': conda)",
   "metadata": {
    "interpreter": {
     "hash": "4ef27d78c3fc635fd7d9c4213d4c42d40923cd7d40ac479afe6734ca36af04ac"
    }
   }
  }
 },
 "nbformat": 4,
 "nbformat_minor": 2,
 "cells": [
  {
   "cell_type": "code",
   "execution_count": 61,
   "metadata": {},
   "outputs": [],
   "source": [
    "# import libraries\n",
    "import pandas as pd\n",
    "import numpy as np "
   ]
  },
  {
   "cell_type": "code",
   "execution_count": 94,
   "metadata": {},
   "outputs": [
    {
     "output_type": "stream",
     "name": "stdout",
     "text": [
      "           3           2\n0.0007848 x - 0.09009 x + 8.44 x + 8.498\n"
     ]
    },
    {
     "output_type": "execute_result",
     "data": {
      "text/plain": [
       "'hello'"
      ]
     },
     "metadata": {},
     "execution_count": 94
    }
   ],
   "source": [
    "oil_a = 'mixed_sweet_blend'\n",
    "oil_b = 'light_smiley'\n",
    "oil_tbl_a = list(df['mixed_sweet_blend'])\n",
    "oil_tbl_b = list(df['light_smiley'])\n",
    "\n",
    "\n",
    "# takes in the names oil_a and oil_b, aswell as their distallation tables, the function would return a new distillation table of the mixture\n",
    "# append to a list \n",
    "def new_mixture_distillation(oil_a,oil_tbl_a,oil_b,oil_tbl_b):\n",
    "    percent_yeild = [10,20,30,40,50,60,70,80,90,95,99]\n",
    "    output_df = pd.DataFrame(percent_yeild,columns=['percent_yeild']).set_index('percent_yeild')\n",
    "    output_df[oil_a] = oil_tbl_a\n",
    "    output_df[oil_b] = oil_tbl_b\n",
    "    output_df['mixture_oil'] = (output_df[oil_a] + output_df[oil_b])/2\n",
    "    output_list = list(output_df['mixture_oil'].round(1))\n",
    "    while np.isnan(output_list[-1]):\n",
    "        output_list.pop(-1)\n",
    "        percent_yeild.pop(-1)\n",
    "    # print(output_list)\n",
    "    mymodel = np.poly1d(np.polyfit(percent_yeild,output_list,3))\n",
    "\n",
    "    print(mymodel)\n",
    "\n",
    "    # #print a matplotlib graph\n",
    "\n",
    "    # print(output_df)\n",
    "    # df['mixture'] = (df['mixed_sweet_blend']+df['light_smiley'])/2 \n",
    "    \n",
    "    return \"hello\"\n",
    "\n",
    "new_mixture_distillation(oil_a,oil_tbl_a,oil_b,oil_tbl_b)\n",
    "\n"
   ]
  },
  {
   "cell_type": "code",
   "execution_count": 1,
   "metadata": {},
   "outputs": [],
   "source": [
    "# takes in oil_comp name, oil_tbl, temperature input\n",
    "def get_maximum_yield(oil_comp,oil_tbl,temp):\n",
    "    #print a matplotlib graph\n",
    "    #\n",
    "    return \"hello\""
   ]
  },
  {
   "cell_type": "code",
   "execution_count": 2,
   "metadata": {},
   "outputs": [
    {
     "output_type": "error",
     "ename": "SyntaxError",
     "evalue": "unexpected EOF while parsing (<ipython-input-2-be1735f53907>, line 2)",
     "traceback": [
      "\u001b[1;36m  File \u001b[1;32m\"<ipython-input-2-be1735f53907>\"\u001b[1;36m, line \u001b[1;32m2\u001b[0m\n\u001b[1;33m    # prints a matplotlib graph\u001b[0m\n\u001b[1;37m                               ^\u001b[0m\n\u001b[1;31mSyntaxError\u001b[0m\u001b[1;31m:\u001b[0m unexpected EOF while parsing\n"
     ]
    }
   ],
   "source": [
    "# prints display and rreturns a graph\n",
    "def display_graph(oil_comp,oil_tbl):\n",
    "    # prints a matplotlib graph\n",
    "    return \"hello\""
   ]
  },
  {
   "cell_type": "code",
   "execution_count": 12,
   "metadata": {},
   "outputs": [
    {
     "output_type": "stream",
     "name": "stdout",
     "text": [
      "                mixed_sweet_blend  light_smiley\nmass_recovered                                 \n10                           80.7          97.7\n20                          124.8         158.8\n30                          174.9         219.6\n40                          232.1         275.7\n50                          288.1         328.4\n60                          344.8         386.1\n70                          407.5         445.5\n80                          479.3         521.6\n90                          585.8         631.8\n95                          654.5         695.5\n99                          684.6           NaN\n"
     ]
    }
   ],
   "source": [
    "df = pd.read_csv(\"sample.csv\").set_index('mass_recovered')\n",
    "\n",
    "print(df)"
   ]
  },
  {
   "cell_type": "code",
   "execution_count": 66,
   "metadata": {},
   "outputs": [
    {
     "output_type": "stream",
     "name": "stdout",
     "text": [
      "          3         2\n-0.03032 x + 1.343 x - 15.54 x + 113.8\n"
     ]
    }
   ],
   "source": [
    "import numpy\n",
    "\n",
    "x = [1,2,3,5,6,7,8,9,10,12,13,14,15,16,18,19,21,22]\n",
    "y = [100,90,80,60,60,55,60,65,70,70,75,76,78,79,90,99,99,100]\n",
    "\n",
    "mymodel = numpy.poly1d(numpy.polyfit(x, y, 3))\n",
    "print(mymodel)\n"
   ]
  },
  {
   "cell_type": "code",
   "execution_count": null,
   "metadata": {},
   "outputs": [],
   "source": []
  }
 ]
}