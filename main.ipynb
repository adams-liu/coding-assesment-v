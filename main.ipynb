{
 "metadata": {
  "language_info": {
   "codemirror_mode": {
    "name": "ipython",
    "version": 3
   },
   "file_extension": ".py",
   "mimetype": "text/x-python",
   "name": "python",
   "nbconvert_exporter": "python",
   "pygments_lexer": "ipython3",
   "version": "3.7.7-final"
  },
  "orig_nbformat": 2,
  "kernelspec": {
   "name": "python3",
   "display_name": "Python 3.7.7 64-bit ('validere')",
   "metadata": {
    "interpreter": {
     "hash": "e9f07b5a534876b85e0fa6a6781326d869cd978683de0ce0df4a2d25b68f0d0f"
    }
   }
  }
 },
 "nbformat": 4,
 "nbformat_minor": 2,
 "cells": [
  {
   "cell_type": "code",
   "execution_count": 1,
   "metadata": {},
   "outputs": [
    {
     "output_type": "stream",
     "name": "stderr",
     "text": [
      "[WDM] - Current google-chrome version is 87.0.4280\n",
      "[WDM] - Get LATEST driver version for 87.0.4280\n",
      "[WDM] - Driver [C:\\Users\\adams\\.wdm\\drivers\\chromedriver\\win32\\87.0.4280.88\\chromedriver.exe] found in cache\n",
      " \n"
     ]
    }
   ],
   "source": [
    "# import libraries\n",
    "import pandas as pd\n",
    "import numpy as np  \n",
    "from scraper import load_chrome_driver,get_distillation_temps\n",
    "\n",
    "# set driver module\n",
    "driver = load_chrome_driver()"
   ]
  },
  {
   "cell_type": "code",
   "execution_count": 5,
   "metadata": {},
   "outputs": [
    {
     "output_type": "stream",
     "name": "stdout",
     "text": [
      "[5, 10, 20, 30, 40, 50, 60, 70, 80, 90]\n[ 57.55 106.6  155.2  213.2  269.45 323.25 381.75 442.35 515.7  630.35]\n278\n"
     ]
    }
   ],
   "source": [
    "\n",
    "# retrieve the oil profile function given a temperature table, the function is a 3rd degree polynomial\n",
    "def get_oil_profile_func(temp_tbl):\n",
    "    return np.poly1d(np.polyfit(temp_tbl.index, temp_tbl.values, 3))\n",
    "\n",
    "\n",
    "# creates an oil mixture profile function given 2 different oil lists \n",
    "def mixed_oil_distillation(oil_temps_a, oil_temps_b):\n",
    "    percent_yield = [5,10,20,30,40,50,60,70,80,90,95,99]\n",
    "    mixture_temps = []\n",
    "\n",
    "    # iterate thorugh both oil lists and append the approximate value to a new temperature list (mixture_temps)\n",
    "    for i in range(12):\n",
    "        approx_val = (oil_temps_a[i] + oil_temps_b[i]) / 2\n",
    "\n",
    "        # if the approx_val does not exist, pop the last value of the percent yield list\n",
    "        if np.isnan(approx_val):\n",
    "            percent_yield.pop(-1)\n",
    "        else:\n",
    "            mixture_temps.append(approx_val)\n",
    "    mixture_tbl = pd.Series(data=mixture_temps, index=percent_yield)\n",
    "    return get_oil_profile_func(mixture_tbl)\n",
    "\n",
    "\n",
    "\n",
    "# returns the temperature needed to retrieve the volume given an oil profile function\n",
    "def oil_snapshot(oil_profile_func, percent):\n",
    "    try:\n",
    "        # checks to see if the percentage is within range\n",
    "        if percent >= 5 and percent <= 99:\n",
    "            return int(oil_profile_func(percent))\n",
    "        else:\n",
    "            return '**Error: Percentage not within range**'\n",
    "    except:\n",
    "        print('**Error: parameters are invalid**')\n",
    "        return []\n",
    "\n",
    "# returns a the profile table of the mixture, with preset temperatures\n",
    "def oil_snapshot_tbl(oil_profile_func):\n",
    "    percent_yield = [5,10,20,30,40,50,60,70,80,90,95,99]\n",
    "    oil_temps = []\n",
    "    try:\n",
    "        for i in range(12):\n",
    "            oil_temps.append(oil_snapshot(oil_profile_func,percent_yield[i]))\n",
    "        return pd.Series(data=oil_temps, index=percent_yield)\n",
    "    except:\n",
    "        print('**Error: Oil profile function is invalid**')\n",
    "        return []\n"
   ]
  },
  {
   "cell_type": "code",
   "execution_count": 2,
   "metadata": {},
   "outputs": [
    {
     "output_type": "error",
     "ename": "SyntaxError",
     "evalue": "unexpected EOF while parsing (<ipython-input-2-be1735f53907>, line 2)",
     "traceback": [
      "\u001b[1;36m  File \u001b[1;32m\"<ipython-input-2-be1735f53907>\"\u001b[1;36m, line \u001b[1;32m2\u001b[0m\n\u001b[1;33m    # prints a matplotlib graph\u001b[0m\n\u001b[1;37m                               ^\u001b[0m\n\u001b[1;31mSyntaxError\u001b[0m\u001b[1;31m:\u001b[0m unexpected EOF while parsing\n"
     ]
    }
   ],
   "source": [
    "# prints display and rreturns a graph\n",
    "def display_graph(oil_profile_func,oil_tbl):\n",
    "    # prints a matplotlib graph"
   ]
  },
  {
   "cell_type": "code",
   "execution_count": null,
   "metadata": {},
   "outputs": [],
   "source": [
    "url_a = \\\n",
    "    'https://www.crudemonitor.ca/crudes/dist.php?acr=MSY&time=recent'\n",
    "url_b = \\\n",
    "    'https://www.crudemonitor.ca/crudes/dist.php?acr=MSW&time=recent'\n",
    "oil_temps_a = get_distillation_temps(driver, url_a)\n",
    "oil_temps_b = get_distillation_temps(driver, url_b)\n"
   ]
  }
 ]
}