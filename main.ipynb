{
 "metadata": {
  "language_info": {
   "codemirror_mode": {
    "name": "ipython",
    "version": 3
   },
   "file_extension": ".py",
   "mimetype": "text/x-python",
   "name": "python",
   "nbconvert_exporter": "python",
   "pygments_lexer": "ipython3",
   "version": "3.8.5-final"
  },
  "orig_nbformat": 2,
  "kernelspec": {
   "name": "python3",
   "display_name": "Python 3.8.5 64-bit ('myenv': conda)",
   "metadata": {
    "interpreter": {
     "hash": "4ef27d78c3fc635fd7d9c4213d4c42d40923cd7d40ac479afe6734ca36af04ac"
    }
   }
  }
 },
 "nbformat": 4,
 "nbformat_minor": 2,
 "cells": [
  {
   "cell_type": "code",
   "execution_count": 2,
   "metadata": {},
   "outputs": [],
   "source": [
    "# import libraries\n",
    "import pandas as pd\n",
    "import numpy as np "
   ]
  },
  {
   "cell_type": "code",
   "execution_count": 3,
   "metadata": {},
   "outputs": [],
   "source": [
    "\n",
    "# takes in the names oil_a and oil_b, aswell as their distallation tables, the function would return a new distillation table of the mixture\n",
    "def new_mixture_distillation(oil_a,oil_a_tbl,oil_b,oil_b_tbl):\n",
    "    #print a matplotlib graph\n",
    "    return \"hello\"\n",
    "\n"
   ]
  },
  {
   "cell_type": "code",
   "execution_count": 1,
   "metadata": {},
   "outputs": [],
   "source": [
    "# takes in oil_comp name, oil_tbl, temperature input\n",
    "def get_maximum_yield(oil_comp,oil_tbl,temp):\n",
    "    #print a matplotlib graph\n",
    "    #\n",
    "    return \"hello\""
   ]
  },
  {
   "cell_type": "code",
   "execution_count": 2,
   "metadata": {},
   "outputs": [
    {
     "output_type": "error",
     "ename": "SyntaxError",
     "evalue": "unexpected EOF while parsing (<ipython-input-2-be1735f53907>, line 2)",
     "traceback": [
      "\u001b[1;36m  File \u001b[1;32m\"<ipython-input-2-be1735f53907>\"\u001b[1;36m, line \u001b[1;32m2\u001b[0m\n\u001b[1;33m    # prints a matplotlib graph\u001b[0m\n\u001b[1;37m                               ^\u001b[0m\n\u001b[1;31mSyntaxError\u001b[0m\u001b[1;31m:\u001b[0m unexpected EOF while parsing\n"
     ]
    }
   ],
   "source": [
    "# prints display and rreturns a graph\n",
    "def display_graph(oil_comp,oil_tbl):\n",
    "    # prints a matplotlib graph\n",
    "    return \"hello\""
   ]
  },
  {
   "cell_type": "code",
   "execution_count": null,
   "metadata": {},
   "outputs": [],
   "source": []
  }
 ]
}