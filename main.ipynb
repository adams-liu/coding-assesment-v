{
 "metadata": {
  "language_info": {
   "codemirror_mode": {
    "name": "ipython",
    "version": 3
   },
   "file_extension": ".py",
   "mimetype": "text/x-python",
   "name": "python",
   "nbconvert_exporter": "python",
   "pygments_lexer": "ipython3",
   "version": "3.7.7-final"
  },
  "orig_nbformat": 2,
  "kernelspec": {
   "name": "python3",
   "display_name": "Python 3.7.7 64-bit ('validere')",
   "metadata": {
    "interpreter": {
     "hash": "e9f07b5a534876b85e0fa6a6781326d869cd978683de0ce0df4a2d25b68f0d0f"
    }
   }
  }
 },
 "nbformat": 4,
 "nbformat_minor": 2,
 "cells": [
  {
   "cell_type": "code",
   "execution_count": 1,
   "metadata": {},
   "outputs": [
    {
     "output_type": "stream",
     "name": "stderr",
     "text": [
      "[WDM] - Current google-chrome version is 87.0.4280\n",
      "[WDM] - Get LATEST driver version for 87.0.4280\n",
      "[WDM] - Driver [C:\\Users\\adams\\.wdm\\drivers\\chromedriver\\win32\\87.0.4280.88\\chromedriver.exe] found in cache\n",
      " \n",
      "[52.8, 111.3, 170.2, 229.0, 283.2, 333.7, 390.6, 448.0, 517.9, 622.7, 705.3, nan]\n"
     ]
    }
   ],
   "source": [
    "# import libraries\n",
    "import pandas as pd\n",
    "import numpy as np  \n",
    "from scraper import load_chrome_driver,get_distillation_temps\n"
   ]
  },
  {
   "cell_type": "code",
   "execution_count": 25,
   "metadata": {},
   "outputs": [
    {
     "output_type": "stream",
     "name": "stderr",
     "text": [
      "[WDM] - Current google-chrome version is 87.0.4280\n",
      "[WDM] - Get LATEST driver version for 87.0.4280\n",
      "[WDM] - Driver [C:\\Users\\adams\\.wdm\\drivers\\chromedriver\\win32\\87.0.4280.88\\chromedriver.exe] found in cache\n",
      " \n",
      "approximately 98% of oil is retrieved at 722 degrees C.\n"
     ]
    }
   ],
   "source": [
    "\n",
    "driver = load_chrome_driver()\n",
    "\n",
    "oil_a = 'MSY'\n",
    "oil_b = 'MSW'\n",
    "url_a = \"https://www.crudemonitor.ca/crudes/dist.php?acr=MSY&time=recent\"\n",
    "url_b = \"https://www.crudemonitor.ca/crudes/dist.php?acr=MSW&time=recent\"\n",
    "oil_tbl_a = get_distillation_temps(driver,url_a)\n",
    "oil_tbl_b = get_distillation_temps(driver,url_b)\n",
    "\n",
    "# print(oil_tbl_a)\n",
    "# print(oil_tbl_b)\n",
    "\n",
    "# takes in the names oil_a and oil_b, aswell as their distallation tables, the function would return a new distillation table of the mixture\n",
    "# append to a list \n",
    "def mixed_oil_distillation(oil_a,oil_tbl_a,oil_b,oil_tbl_b):\n",
    "    percent_yeild = [5,10,20,30,40,50,60,70,80,90,95,99]\n",
    "    mixture_yeild = []\n",
    "    for i in range(12): \n",
    "        approx_val = (oil_tbl_a[i]+oil_tbl_b[i])/2\n",
    "        if np.isnan(approx_val):\n",
    "            percent_yeild.pop(-1)\n",
    "        else:\n",
    "            mixture_yeild.append(approx_val)\n",
    "    model = np.poly1d(np.polyfit(percent_yeild,mixture_yeild,3))\n",
    "    return model\n",
    "\n",
    "def oil_snapshot(oil_profile_func,percent):\n",
    "    try:\n",
    "        if percent>=5 and percent<=99:\n",
    "            return \"Approximately \" + str(percent) +\"% of oil is retrieved at \" + str(int(oil_profile_func(percent))) + \" degrees C.\"\n",
    "        else:\n",
    "            return \"**Error: Percentage not within range**\"\n",
    "    except:\n",
    "         print(\"**Error: parameters are invalid**\")\n",
    "         return []\n",
    "\n",
    "    \n",
    "\n",
    "oil_profile_func = mixed_oil_distillation(oil_a,oil_tbl_a,oil_b,oil_tbl_b)\n",
    "print(oil_snapshot(oil_profile_func,101))\n",
    "\n"
   ]
  },
  {
   "cell_type": "code",
   "execution_count": 1,
   "metadata": {},
   "outputs": [],
   "source": [
    "# takes in oil_comp name, oil_tbl, temperature input\n",
    "def get_maximum_yield(oil_comp,oil_tbl,temp):\n",
    "    #print a matplotlib graph\n",
    "    #\n",
    "    return \"hello\""
   ]
  },
  {
   "cell_type": "code",
   "execution_count": 2,
   "metadata": {},
   "outputs": [
    {
     "output_type": "error",
     "ename": "SyntaxError",
     "evalue": "unexpected EOF while parsing (<ipython-input-2-be1735f53907>, line 2)",
     "traceback": [
      "\u001b[1;36m  File \u001b[1;32m\"<ipython-input-2-be1735f53907>\"\u001b[1;36m, line \u001b[1;32m2\u001b[0m\n\u001b[1;33m    # prints a matplotlib graph\u001b[0m\n\u001b[1;37m                               ^\u001b[0m\n\u001b[1;31mSyntaxError\u001b[0m\u001b[1;31m:\u001b[0m unexpected EOF while parsing\n"
     ]
    }
   ],
   "source": [
    "# prints display and rreturns a graph\n",
    "def display_graph(oil_comp,oil_tbl):\n",
    "    # prints a matplotlib graph\n",
    "    return \"hello\""
   ]
  },
  {
   "cell_type": "code",
   "execution_count": 12,
   "metadata": {},
   "outputs": [
    {
     "output_type": "stream",
     "name": "stdout",
     "text": [
      "                mixed_sweet_blend  light_smiley\nmass_recovered                                 \n10                           80.7          97.7\n20                          124.8         158.8\n30                          174.9         219.6\n40                          232.1         275.7\n50                          288.1         328.4\n60                          344.8         386.1\n70                          407.5         445.5\n80                          479.3         521.6\n90                          585.8         631.8\n95                          654.5         695.5\n99                          684.6           NaN\n"
     ]
    }
   ],
   "source": [
    "df = pd.read_csv(\"sample.csv\").set_index('mass_recovered')\n",
    "\n",
    "print(df)"
   ]
  },
  {
   "cell_type": "code",
   "execution_count": 66,
   "metadata": {},
   "outputs": [
    {
     "output_type": "stream",
     "name": "stdout",
     "text": [
      "          3         2\n-0.03032 x + 1.343 x - 15.54 x + 113.8\n"
     ]
    }
   ],
   "source": [
    "\n",
    "\n",
    "x = [1,2,3,5,6,7,8,9,10,12,13,14,15,16,18,19,21,22]\n",
    "y = [100,90,80,60,60,55,60,65,70,70,75,76,78,79,90,99,99,100]\n",
    "\n",
    "mymodel = numpy.poly1d(numpy.polyfit(x, y, 3))\n",
    "print(mymodel)\n"
   ]
  },
  {
   "cell_type": "code",
   "execution_count": 1,
   "metadata": {},
   "outputs": [
    {
     "output_type": "error",
     "ename": "NameError",
     "evalue": "name 'load_chrome_driver' is not defined",
     "traceback": [
      "\u001b[1;31m---------------------------------------------------------------------------\u001b[0m",
      "\u001b[1;31mNameError\u001b[0m                                 Traceback (most recent call last)",
      "\u001b[1;32m<ipython-input-1-256c187e0c4f>\u001b[0m in \u001b[0;36m<module>\u001b[1;34m\u001b[0m\n\u001b[1;32m----> 1\u001b[1;33m \u001b[0mdriver\u001b[0m \u001b[1;33m=\u001b[0m \u001b[0mload_chrome_driver\u001b[0m\u001b[1;33m(\u001b[0m\u001b[1;33m)\u001b[0m\u001b[1;33m\u001b[0m\u001b[1;33m\u001b[0m\u001b[0m\n\u001b[0m\u001b[0;32m      2\u001b[0m \u001b[0murl1\u001b[0m \u001b[1;33m=\u001b[0m \u001b[1;34m'https://www.crudemonitor.ca/crudes/dist.php?acr=MSY&time=recent'\u001b[0m\u001b[1;33m\u001b[0m\u001b[1;33m\u001b[0m\u001b[0m\n\u001b[0;32m      3\u001b[0m \u001b[0murl2\u001b[0m \u001b[1;33m=\u001b[0m \u001b[1;34m'https://www.crudemonitor.ca/crudes/dist.php?acr=FD&time=recent'\u001b[0m\u001b[1;33m\u001b[0m\u001b[1;33m\u001b[0m\u001b[0m\n\u001b[0;32m      4\u001b[0m \u001b[0moil1\u001b[0m \u001b[1;33m=\u001b[0m \u001b[0mget_distillation_temps\u001b[0m\u001b[1;33m(\u001b[0m\u001b[0mdriver\u001b[0m\u001b[1;33m,\u001b[0m\u001b[0murl1\u001b[0m\u001b[1;33m)\u001b[0m\u001b[1;33m\u001b[0m\u001b[1;33m\u001b[0m\u001b[0m\n\u001b[0;32m      5\u001b[0m \u001b[0moil2\u001b[0m \u001b[1;33m=\u001b[0m \u001b[0mget_distillation_temps\u001b[0m\u001b[1;33m(\u001b[0m\u001b[0mdriver\u001b[0m\u001b[1;33m,\u001b[0m\u001b[0murl2\u001b[0m\u001b[1;33m)\u001b[0m\u001b[1;33m\u001b[0m\u001b[1;33m\u001b[0m\u001b[0m\n",
      "\u001b[1;31mNameError\u001b[0m: name 'load_chrome_driver' is not defined"
     ]
    }
   ],
   "source": [
    "driver = load_chrome_driver()\n",
    "url1 = 'https://www.crudemonitor.ca/crudes/dist.php?acr=MSY&time=recent'\n",
    "url2 = 'https://www.crudemonitor.ca/crudes/dist.php?acr=FD&time=recent'\n",
    "oil1 = get_distillation_temps(driver,url1)\n",
    "oil2 = get_distillation_temps(driver,url2)\n",
    "print(oil1)\n",
    "print(oil1)"
   ]
  },
  {
   "cell_type": "code",
   "execution_count": null,
   "metadata": {},
   "outputs": [],
   "source": [
    "\n",
    "driver = load_chrome_driver()\n",
    "\n",
    "oil_a = 'MSY'\n",
    "oil_b = 'MSW'\n",
    "url_a = \"https://www.crudemonitor.ca/crudes/dist.php?acr=MSY&time=recent\"\n",
    "url_b = \"https://www.crudemonitor.ca/crudes/dist.php?acr=MSW&time=recent\"\n",
    "oil_tbl_a = get_distillation_temps(driver,url_a)\n",
    "oil_tbl_b = get_distillation_temps(driver,url_b)\n",
    "\n",
    "# print(oil_tbl_a)\n",
    "# print(oil_tbl_b)\n",
    "\n",
    "# takes in the names oil_a and oil_b, aswell as their distallation tables, the function would return a new distillation table of the mixture\n",
    "# append to a list \n",
    "def new_mixture_distillation(oil_a,oil_tbl_a,oil_b,oil_tbl_b):\n",
    "    percent_yeild = [5,10,20,30,40,50,60,70,80,90,95,99]\n",
    "    mixture_yeild = []\n",
    "    for i in range(12): \n",
    "        approx_val = (oil_tbl_a[i]+oil_tbl_b[i])/2\n",
    "        mixture_yeild.append(approx_val)\n",
    "    # output_df = pd.Series(percent_yeild,columns=['percent_yeild']).set_index('percent_yeild')\n",
    "    output_df = pd.Series(data=mixture_yeild,index=percent_yeild)\n",
    "    # print(mixture_yeild)\n",
    "\n",
    "    # output_df = pd.DataFrame(percent_yeild,columns=['percent_yeild']).set_index('percent_yeild')\n",
    "    # output_df[oil_a] = oil_tbl_a\n",
    "    # output_df[oil_b] = oil_tbl_b\n",
    "    # output_df['mixture_oil'] = (output_df[oil_a] + output_df[oil_b])/2\n",
    "    # output_list = list(output_df['mixture_oil'].round(1))\n",
    "    # while output_list[-1] == '-':\n",
    "    #     output_list.pop(-1)\n",
    "    #     percent_yeild.pop(-1)\n",
    "    # model = np.poly1d(np.polyfit(percent_yeild,output_list,3))\n",
    "    # print(output_df)\n",
    "    return output_df\n",
    "\n",
    "print(new_mixture_distillation(oil_a,oil_tbl_a,oil_b,oil_tbl_b))\n",
    "    output_df = pd.Series(data=mixture_yeild,index=percent_yeild)\n",
    "    return output_df\n"
   ]
  }
 ]
}